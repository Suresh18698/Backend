{
  "cells": [
    {
      "cell_type": "markdown",
      "metadata": {
        "id": "view-in-github",
        "colab_type": "text"
      },
      "source": [
        "<a href=\"https://colab.research.google.com/github/Suresh18698/Backend/blob/main/engageai.ipynb\" target=\"_parent\"><img src=\"https://colab.research.google.com/assets/colab-badge.svg\" alt=\"Open In Colab\"/></a>"
      ]
    },
    {
      "cell_type": "code",
      "execution_count": null,
      "metadata": {
        "id": "Yb5Bd-pGt0mo"
      },
      "outputs": [],
      "source": [
        "!pip install flask --quiet\n",
        "!pip install flask-ngrok --quiet\n",
        "print(\"Completed!\")"
      ]
    },
    {
      "cell_type": "code",
      "execution_count": null,
      "metadata": {
        "colab": {
          "base_uri": "https://localhost:8080/"
        },
        "id": "4yYzNPos3Bxp",
        "outputId": "bba36bf6-67d6-41cf-fc37-ba1730d028a9"
      },
      "outputs": [
        {
          "name": "stdout",
          "output_type": "stream",
          "text": [
            "--2023-12-13 11:23:15--  https://bin.equinox.io/c/4VmDzA7iaHb/ngrok-stable-linux-amd64.tgz\n",
            "Resolving bin.equinox.io (bin.equinox.io)... 52.202.168.65, 18.205.222.128, 54.161.241.46, ...\n",
            "Connecting to bin.equinox.io (bin.equinox.io)|52.202.168.65|:443... connected.\n",
            "HTTP request sent, awaiting response... 200 OK\n",
            "Length: 13856790 (13M) [application/octet-stream]\n",
            "Saving to: ‘ngrok-stable-linux-amd64.tgz.2’\n",
            "\n",
            "ngrok-stable-linux- 100%[===================>]  13.21M  23.0MB/s    in 0.6s    \n",
            "\n",
            "2023-12-13 11:23:15 (23.0 MB/s) - ‘ngrok-stable-linux-amd64.tgz.2’ saved [13856790/13856790]\n",
            "\n"
          ]
        }
      ],
      "source": [
        "!wget https://bin.equinox.io/c/4VmDzA7iaHb/ngrok-stable-linux-amd64.tgz"
      ]
    },
    {
      "cell_type": "code",
      "execution_count": null,
      "metadata": {
        "colab": {
          "base_uri": "https://localhost:8080/"
        },
        "id": "IsihcG913E3o",
        "outputId": "75ddd650-f27c-47a4-b4d5-d93941aa9ec9"
      },
      "outputs": [
        {
          "name": "stdout",
          "output_type": "stream",
          "text": [
            "ngrok\n"
          ]
        }
      ],
      "source": [
        "!tar -xvf /content/ngrok-stable-linux-amd64.tgz"
      ]
    },
    {
      "cell_type": "code",
      "execution_count": null,
      "metadata": {
        "colab": {
          "base_uri": "https://localhost:8080/"
        },
        "id": "Mfd3EBqHxMay",
        "outputId": "7c51dcd8-9ee8-4db1-f6ef-12b293d30f75"
      },
      "outputs": [
        {
          "name": "stdout",
          "output_type": "stream",
          "text": [
            "Authtoken saved to configuration file: /root/.ngrok2/ngrok.yml\n"
          ]
        }
      ],
      "source": [
        "!./ngrok authtoken 2ZU5UXJNFnJHZRd0DsAKPanM97D_3fcs7G3JGNFThJkX98LTR"
      ]
    },
    {
      "cell_type": "code",
      "execution_count": null,
      "metadata": {
        "colab": {
          "base_uri": "https://localhost:8080/"
        },
        "id": "QfGfgxRKu7YF",
        "outputId": "66783bb5-c438-47cc-9076-aa6a230625c6"
      },
      "outputs": [
        {
          "name": "stdout",
          "output_type": "stream",
          "text": [
            "Requirement already satisfied: pyngrok in /usr/local/lib/python3.10/dist-packages (7.0.3)\n",
            "Requirement already satisfied: PyYAML in /usr/local/lib/python3.10/dist-packages (from pyngrok) (6.0.1)\n"
          ]
        }
      ],
      "source": [
        "!pip install pyngrok\n"
      ]
    },
    {
      "cell_type": "code",
      "execution_count": null,
      "metadata": {
        "id": "cG1pkgfMqQl2"
      },
      "outputs": [],
      "source": [
        "from flask import Flask, render_template, request, redirect, url_for\n",
        "import sqlite3\n",
        "import csv\n",
        "import json\n",
        "from werkzeug.utils import secure_filename\n",
        "from pyngrok import ngrok\n",
        "from flask_ngrok import run_with_ngrok\n"
      ]
    },
    {
      "cell_type": "code",
      "execution_count": null,
      "metadata": {
        "id": "OO5w-qTjrYvv"
      },
      "outputs": [],
      "source": [
        "\n",
        "app = Flask(__name__)\n",
        "\n",
        "# SQLite database configuration\n",
        "DATABASE = 'data.db'\n",
        "run_with_ngrok(app)\n",
        "\n",
        "\n",
        "# Function to create a connection to the SQLite database\n",
        "def get_db_connection():\n",
        "    conn = sqlite3.connect(DATABASE)\n",
        "    conn.row_factory = sqlite3.Row\n",
        "    return conn\n",
        "\n",
        "# Create the database table if it doesn't exist\n",
        "def create_table():\n",
        "    conn = get_db_connection()\n",
        "    cursor = conn.cursor()\n",
        "    cursor.execute('''CREATE TABLE IF NOT EXISTS contacts (\n",
        "                        id INTEGER PRIMARY KEY AUTOINCREMENT,\n",
        "                        name TEXT,\n",
        "                        email TEXT,\n",
        "                        phone1 TEXT,\n",
        "                        phone2 TEXT\n",
        "                    )''')\n",
        "    conn.commit()\n",
        "    conn.close()\n",
        "\n",
        "create_table()  # Ensure the table is created when the app starts\n"
      ]
    },
    {
      "cell_type": "code",
      "execution_count": null,
      "metadata": {
        "id": "vrnJSTixrixh"
      },
      "outputs": [],
      "source": [
        "\n",
        "# Function to handle CSV data and insert into the database\n",
        "def handle_csv(file):\n",
        "    filename = secure_filename(file.filename)\n",
        "    file.save(filename)\n",
        "\n",
        "    with open(filename, 'r') as csvfile:\n",
        "        csv_reader = csv.DictReader(csvfile)\n",
        "        conn = get_db_connection()\n",
        "        cursor = conn.cursor()\n",
        "        for row in csv_reader:\n",
        "            cursor.execute('''INSERT INTO contacts (name, email, phone1, phone2)\n",
        "                              VALUES (?, ?, ?, ?)''', (row['name'], row['email'], row['phone1'], row['phone2']))\n",
        "        conn.commit()\n",
        "        conn.close()\n",
        "\n",
        "# Function to handle JSON data and insert into the database\n",
        "def handle_json(file):\n",
        "    data = json.load(file)\n",
        "    conn = get_db_connection()\n",
        "    cursor = conn.cursor()\n",
        "    for item in data:\n",
        "        cursor.execute('''INSERT INTO contacts (name, email, phone1, phone2)\n",
        "                          VALUES (?, ?, ?, ?)''', (item['name'], item['phone1'], item['phone2'], item['email'],))\n",
        "    conn.commit()\n",
        "    conn.close()\n"
      ]
    },
    {
      "cell_type": "code",
      "execution_count": null,
      "metadata": {
        "id": "Uewru5oc4AXZ"
      },
      "outputs": [],
      "source": [
        "# Route to the index page\n",
        "@app.route('/')\n",
        "def index():\n",
        "    return render_template('index.html')"
      ]
    },
    {
      "cell_type": "code",
      "execution_count": null,
      "metadata": {
        "id": "ZuOdDEUxrkS3"
      },
      "outputs": [],
      "source": [
        "\n",
        "# Route to handle form submission\n",
        "@app.route('/submit', methods=['POST'])\n",
        "def submit():\n",
        "    if request.method == 'POST':\n",
        "        # Get the uploaded file\n",
        "        file = request.files['file']\n",
        "\n",
        "        # Check if the file is JSON or CSV\n",
        "        if file.filename.endswith('.json'):\n",
        "            # Process JSON\n",
        "            handle_json(file)\n",
        "        elif file.filename.endswith('.csv'):\n",
        "            # Process CSV\n",
        "            handle_csv(file)\n",
        "        else:\n",
        "            return \"File type not supported. Please upload a JSON or CSV file.\"\n",
        "\n",
        "        # Retrieve data from the database to display in display.html\n",
        "        conn = get_db_connection()\n",
        "        cursor = conn.cursor()\n",
        "        cursor.execute('''SELECT name, email, phone1, phone2 FROM contacts LIMIT 10''')\n",
        "        contacts = cursor.fetchall()\n",
        "        conn.close()\n",
        "\n",
        "        return render_template('display.html', contacts=contacts)\n"
      ]
    },
    {
      "cell_type": "code",
      "execution_count": null,
      "metadata": {
        "id": "7hoGO_rFrrNv"
      },
      "outputs": [],
      "source": [
        "@app.route('/filter')\n",
        "def filter_by_name():\n",
        "    name = request.args.get('name')\n",
        "\n",
        "    if name:\n",
        "        conn = get_db_connection()\n",
        "        cursor = conn.cursor()\n",
        "        cursor.execute('''SELECT name, email, phone1, phone2 FROM contacts WHERE name = ?''', (name,))\n",
        "        filtered_contacts = cursor.fetchall()\n",
        "        conn.close()\n",
        "\n",
        "        return render_template('filtered.html', contacts=filtered_contacts)\n",
        "    else:\n",
        "        return \"Invalid request\"\n",
        "\n"
      ]
    },
    {
      "cell_type": "code",
      "execution_count": null,
      "metadata": {
        "id": "9dkB6b-OrvjC"
      },
      "outputs": [],
      "source": [
        "\n",
        "@app.route('/update', methods=['POST'])\n",
        "def insert_record():\n",
        "    if request.method == 'POST':\n",
        "        name = request.form.get('name')\n",
        "        email = request.form.get('email')\n",
        "        phone1 = request.form.get('phone1')\n",
        "        phone2 = request.form.get('phone2')\n",
        "\n",
        "        conn = get_db_connection()\n",
        "        cursor = conn.cursor()\n",
        "        cursor.execute('''INSERT INTO contacts (name, email, phone1, phone2) VALUES (?, ?, ?, ?)''', (name, email, phone1, phone2))\n",
        "        conn.commit()\n",
        "\n",
        "        cursor.execute('''SELECT name, email, phone1, phone2 FROM contacts ORDER BY name ASC''')\n",
        "        updated_records = cursor.fetchall()\n",
        "        conn.close()\n",
        "\n",
        "        return render_template('display.html', contacts=updated_records)\n"
      ]
    },
    {
      "cell_type": "code",
      "execution_count": null,
      "metadata": {
        "id": "V2flhl8wrz12"
      },
      "outputs": [],
      "source": [
        "\n",
        "@app.route('/insert-page')\n",
        "def gotoinsertpage():\n",
        "    return render_template('insert.html')\n",
        "\n",
        "@app.route('/delete-page')\n",
        "def gotodeletepage():\n",
        "    return render_template('delete.html')\n"
      ]
    },
    {
      "cell_type": "code",
      "execution_count": null,
      "metadata": {
        "id": "sIJdoyk3r2p6"
      },
      "outputs": [],
      "source": [
        "@app.route('/delete', methods=['GET', 'POST'])\n",
        "def deleting():\n",
        "    if request.method == 'POST':\n",
        "        name = request.form.get('name')\n",
        "\n",
        "        conn = get_db_connection()\n",
        "        cursor = conn.cursor()\n",
        "        cursor.execute('''DELETE FROM contacts WHERE name = ?''', (name,))\n",
        "        conn.commit()\n",
        "\n",
        "        cursor.execute('''SELECT name, email, phone1, phone2 FROM contacts ORDER BY name ASC''')\n",
        "        updated_records = cursor.fetchall()\n",
        "        conn.close()\n",
        "\n",
        "        return render_template('display.html', contacts=updated_records)  # Render index.html with updated data\n",
        "\n",
        "    return render_template('delete.html')\n"
      ]
    },
    {
      "cell_type": "code",
      "execution_count": null,
      "metadata": {
        "id": "8_NQ2xjYr7zE"
      },
      "outputs": [],
      "source": [
        "@app.route('/all-records')\n",
        "def getall_records():\n",
        "    conn = get_db_connection()\n",
        "    cursor = conn.cursor()\n",
        "    cursor.execute('''SELECT name, email, phone1, phone2 FROM contacts ORDER BY name ASC''')\n",
        "    all_records = cursor.fetchall()\n",
        "    conn.close()\n",
        "\n",
        "    return render_template('all_records.html', contacts=all_records)\n"
      ]
    },
    {
      "cell_type": "code",
      "execution_count": null,
      "metadata": {
        "colab": {
          "base_uri": "https://localhost:8080/"
        },
        "id": "iLy_sc72r9-p",
        "outputId": "c4ff6765-5113-4199-b235-255d66d646e1"
      },
      "outputs": [
        {
          "metadata": {
            "tags": null
          },
          "name": "stdout",
          "output_type": "stream",
          "text": [
            " * Serving Flask app '__main__'\n",
            " * Debug mode: off\n"
          ]
        },
        {
          "metadata": {
            "tags": null
          },
          "name": "stderr",
          "output_type": "stream",
          "text": [
            "INFO:werkzeug:\u001b[31m\u001b[1mWARNING: This is a development server. Do not use it in a production deployment. Use a production WSGI server instead.\u001b[0m\n",
            " * Running on http://127.0.0.1:5000\n",
            "INFO:werkzeug:\u001b[33mPress CTRL+C to quit\u001b[0m\n"
          ]
        },
        {
          "metadata": {
            "tags": null
          },
          "name": "stdout",
          "output_type": "stream",
          "text": [
            " * Running on http://f6e0-34-106-250-12.ngrok-free.app\n",
            " * Traffic stats available on http://127.0.0.1:4040\n"
          ]
        },
        {
          "metadata": {
            "tags": null
          },
          "name": "stderr",
          "output_type": "stream",
          "text": [
            "INFO:werkzeug:127.0.0.1 - - [13/Dec/2023 11:23:49] \"GET / HTTP/1.1\" 200 -\n",
            "INFO:werkzeug:127.0.0.1 - - [13/Dec/2023 11:23:50] \"\u001b[33mGET /favicon.ico HTTP/1.1\u001b[0m\" 404 -\n",
            "INFO:werkzeug:127.0.0.1 - - [13/Dec/2023 11:23:53] \"POST /submit HTTP/1.1\" 200 -\n",
            "INFO:werkzeug:127.0.0.1 - - [13/Dec/2023 11:24:00] \"GET /filter?name=Sheryl HTTP/1.1\" 200 -\n",
            "INFO:werkzeug:127.0.0.1 - - [13/Dec/2023 11:24:14] \"GET /filter?name=Michelle HTTP/1.1\" 200 -\n",
            "ERROR:root:Unexpected exception finding object shape\n",
            "Traceback (most recent call last):\n",
            "  File \"/usr/local/lib/python3.10/dist-packages/google/colab/_debugpy_repr.py\", line 54, in get_shape\n",
            "    shape = getattr(obj, 'shape', None)\n",
            "  File \"/usr/local/lib/python3.10/dist-packages/werkzeug/local.py\", line 311, in __get__\n",
            "    obj = instance._get_current_object()\n",
            "  File \"/usr/local/lib/python3.10/dist-packages/werkzeug/local.py\", line 508, in _get_current_object\n",
            "    raise RuntimeError(unbound_message) from None\n",
            "RuntimeError: Working outside of request context.\n",
            "\n",
            "This typically means that you attempted to use functionality that needed\n",
            "an active HTTP request. Consult the documentation on testing for\n",
            "information about how to avoid this problem.\n",
            "INFO:werkzeug:127.0.0.1 - - [13/Dec/2023 11:25:47] \"GET /delete-page HTTP/1.1\" 200 -\n",
            "INFO:werkzeug:127.0.0.1 - - [13/Dec/2023 11:25:50] \"GET /all-records HTTP/1.1\" 200 -\n",
            "INFO:werkzeug:127.0.0.1 - - [13/Dec/2023 11:26:12] \"GET / HTTP/1.1\" 200 -\n",
            "INFO:werkzeug:127.0.0.1 - - [13/Dec/2023 11:26:25] \"POST /submit HTTP/1.1\" 200 -\n",
            "INFO:werkzeug:127.0.0.1 - - [13/Dec/2023 11:26:30] \"GET /all-records HTTP/1.1\" 200 -\n",
            "INFO:werkzeug:127.0.0.1 - - [13/Dec/2023 11:31:38] \"POST /submit HTTP/1.1\" 200 -\n",
            "INFO:werkzeug:127.0.0.1 - - [13/Dec/2023 11:31:57] \"GET / HTTP/1.1\" 200 -\n",
            "INFO:werkzeug:127.0.0.1 - - [13/Dec/2023 11:31:58] \"\u001b[33mGET /favicon.ico HTTP/1.1\u001b[0m\" 404 -\n"
          ]
        }
      ],
      "source": [
        "if __name__ == '__main__':\n",
        "    app.run()\n",
        "\n"
      ]
    }
  ],
  "metadata": {
    "colab": {
      "provenance": [],
      "authorship_tag": "ABX9TyMSBkjkUiTEBhVtoE0lzINx",
      "include_colab_link": true
    },
    "kernelspec": {
      "display_name": "Python 3",
      "name": "python3"
    },
    "language_info": {
      "name": "python"
    }
  },
  "nbformat": 4,
  "nbformat_minor": 0
}